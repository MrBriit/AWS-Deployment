{
  "nbformat": 4,
  "nbformat_minor": 0,
  "metadata": {
    "kernelspec": {
      "display_name": "Python 3",
      "language": "python",
      "name": "python3"
    },
    "language_info": {
      "codemirror_mode": {
        "name": "ipython",
        "version": 3
      },
      "file_extension": ".py",
      "mimetype": "text/x-python",
      "name": "python",
      "nbconvert_exporter": "python",
      "pygments_lexer": "ipython3",
      "version": "3.7.3"
    },
    "colab": {
      "name": "year of marriage.ipynb",
      "provenance": []
    }
  },
  "cells": [
    {
      "cell_type": "markdown",
      "metadata": {
        "id": "R7GY9cvjAd-L"
      },
      "source": [
        "# Predicing Year of Marriage "
      ]
    },
    {
      "cell_type": "code",
      "metadata": {
        "id": "1SSQj3QUAd-N",
        "outputId": "eb82cace-6758-4d0a-e408-d66be493c62f",
        "colab": {
          "base_uri": "https://localhost:8080/",
          "height": 333
        }
      },
      "source": [
        "import pandas as pd\n",
        "data = pd.read_csv('/content/marriage.csv')\n",
        "print(data.shape)\n",
        "data.head()"
      ],
      "execution_count": null,
      "outputs": [
        {
          "output_type": "stream",
          "text": [
            "(2567, 10)\n"
          ],
          "name": "stdout"
        },
        {
          "output_type": "execute_result",
          "data": {
            "text/html": [
              "<div>\n",
              "<style scoped>\n",
              "    .dataframe tbody tr th:only-of-type {\n",
              "        vertical-align: middle;\n",
              "    }\n",
              "\n",
              "    .dataframe tbody tr th {\n",
              "        vertical-align: top;\n",
              "    }\n",
              "\n",
              "    .dataframe thead th {\n",
              "        text-align: right;\n",
              "    }\n",
              "</style>\n",
              "<table border=\"1\" class=\"dataframe\">\n",
              "  <thead>\n",
              "    <tr style=\"text-align: right;\">\n",
              "      <th></th>\n",
              "      <th>id</th>\n",
              "      <th>gender</th>\n",
              "      <th>height</th>\n",
              "      <th>religion</th>\n",
              "      <th>caste</th>\n",
              "      <th>mother_tongue</th>\n",
              "      <th>profession</th>\n",
              "      <th>location</th>\n",
              "      <th>country</th>\n",
              "      <th>age_of_marriage</th>\n",
              "    </tr>\n",
              "  </thead>\n",
              "  <tbody>\n",
              "    <tr>\n",
              "      <th>0</th>\n",
              "      <td>1</td>\n",
              "      <td>female</td>\n",
              "      <td>5'4\"</td>\n",
              "      <td>NaN</td>\n",
              "      <td>others</td>\n",
              "      <td>Telugu</td>\n",
              "      <td>NaN</td>\n",
              "      <td>London</td>\n",
              "      <td>United Kingdom</td>\n",
              "      <td>21.0</td>\n",
              "    </tr>\n",
              "    <tr>\n",
              "      <th>1</th>\n",
              "      <td>2</td>\n",
              "      <td>male</td>\n",
              "      <td>5'7\"</td>\n",
              "      <td>Jain</td>\n",
              "      <td>Shwetamber</td>\n",
              "      <td>Gujarati</td>\n",
              "      <td>Doctor / Healthcare Professional</td>\n",
              "      <td>Fairfax- VA</td>\n",
              "      <td>USA</td>\n",
              "      <td>32.0</td>\n",
              "    </tr>\n",
              "    <tr>\n",
              "      <th>2</th>\n",
              "      <td>3</td>\n",
              "      <td>male</td>\n",
              "      <td>5'7\"</td>\n",
              "      <td>Hindu</td>\n",
              "      <td>Brahmin</td>\n",
              "      <td>Hindi</td>\n",
              "      <td>Entrepreneurs / Business</td>\n",
              "      <td>Begusarai</td>\n",
              "      <td>India</td>\n",
              "      <td>32.0</td>\n",
              "    </tr>\n",
              "    <tr>\n",
              "      <th>3</th>\n",
              "      <td>4</td>\n",
              "      <td>female</td>\n",
              "      <td>5'0\"</td>\n",
              "      <td>Hindu</td>\n",
              "      <td>Thakur</td>\n",
              "      <td>Hindi</td>\n",
              "      <td>Architect</td>\n",
              "      <td>Mumbai</td>\n",
              "      <td>India</td>\n",
              "      <td>30.0</td>\n",
              "    </tr>\n",
              "    <tr>\n",
              "      <th>4</th>\n",
              "      <td>5</td>\n",
              "      <td>male</td>\n",
              "      <td>5'5\"</td>\n",
              "      <td>Christian</td>\n",
              "      <td>Born Again</td>\n",
              "      <td>Malayalam</td>\n",
              "      <td>Sales Professional / Marketing</td>\n",
              "      <td>Sulthan Bathery</td>\n",
              "      <td>India</td>\n",
              "      <td>30.0</td>\n",
              "    </tr>\n",
              "  </tbody>\n",
              "</table>\n",
              "</div>"
            ],
            "text/plain": [
              "   id  gender height  ...         location          country age_of_marriage\n",
              "0   1  female   5'4\"  ...           London   United Kingdom            21.0\n",
              "1   2    male   5'7\"  ...      Fairfax- VA              USA            32.0\n",
              "2   3    male   5'7\"  ...        Begusarai            India            32.0\n",
              "3   4  female   5'0\"  ...           Mumbai            India            30.0\n",
              "4   5    male   5'5\"  ...  Sulthan Bathery            India            30.0\n",
              "\n",
              "[5 rows x 10 columns]"
            ]
          },
          "metadata": {
            "tags": []
          },
          "execution_count": 1
        }
      ]
    },
    {
      "cell_type": "code",
      "metadata": {
        "id": "lwyOeZl-Ad-V",
        "outputId": "725922a8-b8e1-4af5-e90d-e1f456eaebf1",
        "colab": {
          "base_uri": "https://localhost:8080/"
        }
      },
      "source": [
        "data.isnull().sum()"
      ],
      "execution_count": null,
      "outputs": [
        {
          "output_type": "execute_result",
          "data": {
            "text/plain": [
              "id                   0\n",
              "gender              29\n",
              "height             118\n",
              "religion           635\n",
              "caste              142\n",
              "mother_tongue      164\n",
              "profession         330\n",
              "location           155\n",
              "country             16\n",
              "age_of_marriage     19\n",
              "dtype: int64"
            ]
          },
          "metadata": {
            "tags": []
          },
          "execution_count": 2
        }
      ]
    },
    {
      "cell_type": "code",
      "metadata": {
        "id": "lgX2M_qYAd-b",
        "outputId": "38bd427d-925d-410f-c8b7-f9b70f2d5638",
        "colab": {
          "base_uri": "https://localhost:8080/"
        }
      },
      "source": [
        "(data.shape[0] - data.dropna().shape[0])/data.shape[0]"
      ],
      "execution_count": null,
      "outputs": [
        {
          "output_type": "execute_result",
          "data": {
            "text/plain": [
              "0.24737047136735488"
            ]
          },
          "metadata": {
            "tags": []
          },
          "execution_count": 3
        }
      ]
    },
    {
      "cell_type": "code",
      "metadata": {
        "id": "xl8osT7CAd-h"
      },
      "source": [
        "data.dropna(inplace=True)"
      ],
      "execution_count": null,
      "outputs": []
    },
    {
      "cell_type": "code",
      "metadata": {
        "id": "8ijhOQHsAd-n",
        "outputId": "3ec3ad3f-5984-4b48-af69-84072d6ea082",
        "colab": {
          "base_uri": "https://localhost:8080/"
        }
      },
      "source": [
        "data.shape"
      ],
      "execution_count": null,
      "outputs": [
        {
          "output_type": "execute_result",
          "data": {
            "text/plain": [
              "(1932, 10)"
            ]
          },
          "metadata": {
            "tags": []
          },
          "execution_count": 5
        }
      ]
    },
    {
      "cell_type": "code",
      "metadata": {
        "id": "RLNlZYjPAd-u",
        "outputId": "8bee33af-29cf-48b4-aa9a-e453d2381cba",
        "colab": {
          "base_uri": "https://localhost:8080/",
          "height": 177
        }
      },
      "source": [
        "data.head(2)"
      ],
      "execution_count": null,
      "outputs": [
        {
          "output_type": "execute_result",
          "data": {
            "text/html": [
              "<div>\n",
              "<style scoped>\n",
              "    .dataframe tbody tr th:only-of-type {\n",
              "        vertical-align: middle;\n",
              "    }\n",
              "\n",
              "    .dataframe tbody tr th {\n",
              "        vertical-align: top;\n",
              "    }\n",
              "\n",
              "    .dataframe thead th {\n",
              "        text-align: right;\n",
              "    }\n",
              "</style>\n",
              "<table border=\"1\" class=\"dataframe\">\n",
              "  <thead>\n",
              "    <tr style=\"text-align: right;\">\n",
              "      <th></th>\n",
              "      <th>id</th>\n",
              "      <th>gender</th>\n",
              "      <th>height</th>\n",
              "      <th>religion</th>\n",
              "      <th>caste</th>\n",
              "      <th>mother_tongue</th>\n",
              "      <th>profession</th>\n",
              "      <th>location</th>\n",
              "      <th>country</th>\n",
              "      <th>age_of_marriage</th>\n",
              "    </tr>\n",
              "  </thead>\n",
              "  <tbody>\n",
              "    <tr>\n",
              "      <th>1</th>\n",
              "      <td>2</td>\n",
              "      <td>male</td>\n",
              "      <td>5'7\"</td>\n",
              "      <td>Jain</td>\n",
              "      <td>Shwetamber</td>\n",
              "      <td>Gujarati</td>\n",
              "      <td>Doctor / Healthcare Professional</td>\n",
              "      <td>Fairfax- VA</td>\n",
              "      <td>USA</td>\n",
              "      <td>32.0</td>\n",
              "    </tr>\n",
              "    <tr>\n",
              "      <th>2</th>\n",
              "      <td>3</td>\n",
              "      <td>male</td>\n",
              "      <td>5'7\"</td>\n",
              "      <td>Hindu</td>\n",
              "      <td>Brahmin</td>\n",
              "      <td>Hindi</td>\n",
              "      <td>Entrepreneurs / Business</td>\n",
              "      <td>Begusarai</td>\n",
              "      <td>India</td>\n",
              "      <td>32.0</td>\n",
              "    </tr>\n",
              "  </tbody>\n",
              "</table>\n",
              "</div>"
            ],
            "text/plain": [
              "   id gender height  ...     location country age_of_marriage\n",
              "1   2   male   5'7\"  ...  Fairfax- VA     USA            32.0\n",
              "2   3   male   5'7\"  ...    Begusarai   India            32.0\n",
              "\n",
              "[2 rows x 10 columns]"
            ]
          },
          "metadata": {
            "tags": []
          },
          "execution_count": 6
        }
      ]
    },
    {
      "cell_type": "code",
      "metadata": {
        "id": "qGneqbSWAd-7"
      },
      "source": [
        "X = data.loc[:,['gender','height','religion','caste','mother_tongue','country']]\n",
        "y = data.age_of_marriage"
      ],
      "execution_count": null,
      "outputs": []
    },
    {
      "cell_type": "code",
      "metadata": {
        "id": "7TBH8jWWAd_B",
        "outputId": "3b282d47-9a19-49b4-901e-5fe2bfd844ed",
        "colab": {
          "base_uri": "https://localhost:8080/",
          "height": 195
        }
      },
      "source": [
        "X.head()"
      ],
      "execution_count": null,
      "outputs": [
        {
          "output_type": "execute_result",
          "data": {
            "text/html": [
              "<div>\n",
              "<style scoped>\n",
              "    .dataframe tbody tr th:only-of-type {\n",
              "        vertical-align: middle;\n",
              "    }\n",
              "\n",
              "    .dataframe tbody tr th {\n",
              "        vertical-align: top;\n",
              "    }\n",
              "\n",
              "    .dataframe thead th {\n",
              "        text-align: right;\n",
              "    }\n",
              "</style>\n",
              "<table border=\"1\" class=\"dataframe\">\n",
              "  <thead>\n",
              "    <tr style=\"text-align: right;\">\n",
              "      <th></th>\n",
              "      <th>gender</th>\n",
              "      <th>height</th>\n",
              "      <th>religion</th>\n",
              "      <th>caste</th>\n",
              "      <th>mother_tongue</th>\n",
              "      <th>country</th>\n",
              "    </tr>\n",
              "  </thead>\n",
              "  <tbody>\n",
              "    <tr>\n",
              "      <th>1</th>\n",
              "      <td>male</td>\n",
              "      <td>5'7\"</td>\n",
              "      <td>Jain</td>\n",
              "      <td>Shwetamber</td>\n",
              "      <td>Gujarati</td>\n",
              "      <td>USA</td>\n",
              "    </tr>\n",
              "    <tr>\n",
              "      <th>2</th>\n",
              "      <td>male</td>\n",
              "      <td>5'7\"</td>\n",
              "      <td>Hindu</td>\n",
              "      <td>Brahmin</td>\n",
              "      <td>Hindi</td>\n",
              "      <td>India</td>\n",
              "    </tr>\n",
              "    <tr>\n",
              "      <th>3</th>\n",
              "      <td>female</td>\n",
              "      <td>5'0\"</td>\n",
              "      <td>Hindu</td>\n",
              "      <td>Thakur</td>\n",
              "      <td>Hindi</td>\n",
              "      <td>India</td>\n",
              "    </tr>\n",
              "    <tr>\n",
              "      <th>4</th>\n",
              "      <td>male</td>\n",
              "      <td>5'5\"</td>\n",
              "      <td>Christian</td>\n",
              "      <td>Born Again</td>\n",
              "      <td>Malayalam</td>\n",
              "      <td>India</td>\n",
              "    </tr>\n",
              "    <tr>\n",
              "      <th>5</th>\n",
              "      <td>male</td>\n",
              "      <td>5'5\"</td>\n",
              "      <td>Hindu</td>\n",
              "      <td>Valmiki</td>\n",
              "      <td>Hindi</td>\n",
              "      <td>India</td>\n",
              "    </tr>\n",
              "  </tbody>\n",
              "</table>\n",
              "</div>"
            ],
            "text/plain": [
              "   gender height   religion        caste mother_tongue country\n",
              "1    male   5'7\"       Jain   Shwetamber      Gujarati     USA\n",
              "2    male   5'7\"      Hindu      Brahmin         Hindi   India\n",
              "3  female   5'0\"      Hindu       Thakur         Hindi   India\n",
              "4    male   5'5\"  Christian   Born Again     Malayalam   India\n",
              "5    male   5'5\"      Hindu      Valmiki         Hindi   India"
            ]
          },
          "metadata": {
            "tags": []
          },
          "execution_count": 8
        }
      ]
    },
    {
      "cell_type": "code",
      "metadata": {
        "id": "QEK2xQeMAd_E"
      },
      "source": [
        "from sklearn.preprocessing import LabelEncoder\n",
        "enc = LabelEncoder()\n",
        "X.loc[:,['gender','religion','caste','mother_tongue','country']]= \\\n",
        "X.loc[:,['gender','religion','caste','mother_tongue','country']].apply(enc.fit_transform)"
      ],
      "execution_count": null,
      "outputs": []
    },
    {
      "cell_type": "code",
      "metadata": {
        "id": "AHCKM03ZAd_M",
        "outputId": "0bda4d2d-04b5-478b-fd6c-7458bf5f916e",
        "colab": {
          "base_uri": "https://localhost:8080/",
          "height": 195
        }
      },
      "source": [
        "X.head()"
      ],
      "execution_count": null,
      "outputs": [
        {
          "output_type": "execute_result",
          "data": {
            "text/html": [
              "<div>\n",
              "<style scoped>\n",
              "    .dataframe tbody tr th:only-of-type {\n",
              "        vertical-align: middle;\n",
              "    }\n",
              "\n",
              "    .dataframe tbody tr th {\n",
              "        vertical-align: top;\n",
              "    }\n",
              "\n",
              "    .dataframe thead th {\n",
              "        text-align: right;\n",
              "    }\n",
              "</style>\n",
              "<table border=\"1\" class=\"dataframe\">\n",
              "  <thead>\n",
              "    <tr style=\"text-align: right;\">\n",
              "      <th></th>\n",
              "      <th>gender</th>\n",
              "      <th>height</th>\n",
              "      <th>religion</th>\n",
              "      <th>caste</th>\n",
              "      <th>mother_tongue</th>\n",
              "      <th>country</th>\n",
              "    </tr>\n",
              "  </thead>\n",
              "  <tbody>\n",
              "    <tr>\n",
              "      <th>1</th>\n",
              "      <td>1</td>\n",
              "      <td>5'7\"</td>\n",
              "      <td>2</td>\n",
              "      <td>34</td>\n",
              "      <td>6</td>\n",
              "      <td>19</td>\n",
              "    </tr>\n",
              "    <tr>\n",
              "      <th>2</th>\n",
              "      <td>1</td>\n",
              "      <td>5'7\"</td>\n",
              "      <td>1</td>\n",
              "      <td>14</td>\n",
              "      <td>8</td>\n",
              "      <td>5</td>\n",
              "    </tr>\n",
              "    <tr>\n",
              "      <th>3</th>\n",
              "      <td>0</td>\n",
              "      <td>5'0\"</td>\n",
              "      <td>1</td>\n",
              "      <td>36</td>\n",
              "      <td>8</td>\n",
              "      <td>5</td>\n",
              "    </tr>\n",
              "    <tr>\n",
              "      <th>4</th>\n",
              "      <td>1</td>\n",
              "      <td>5'5\"</td>\n",
              "      <td>0</td>\n",
              "      <td>13</td>\n",
              "      <td>13</td>\n",
              "      <td>5</td>\n",
              "    </tr>\n",
              "    <tr>\n",
              "      <th>5</th>\n",
              "      <td>1</td>\n",
              "      <td>5'5\"</td>\n",
              "      <td>1</td>\n",
              "      <td>38</td>\n",
              "      <td>8</td>\n",
              "      <td>5</td>\n",
              "    </tr>\n",
              "  </tbody>\n",
              "</table>\n",
              "</div>"
            ],
            "text/plain": [
              "  gender height religion caste mother_tongue country\n",
              "1      1   5'7\"        2    34             6      19\n",
              "2      1   5'7\"        1    14             8       5\n",
              "3      0   5'0\"        1    36             8       5\n",
              "4      1   5'5\"        0    13            13       5\n",
              "5      1   5'5\"        1    38             8       5"
            ]
          },
          "metadata": {
            "tags": []
          },
          "execution_count": 10
        }
      ]
    },
    {
      "cell_type": "code",
      "metadata": {
        "id": "-_AYfNS4Ad_Q",
        "outputId": "80f0c122-c21f-4979-c8bf-2559db11f310",
        "colab": {
          "base_uri": "https://localhost:8080/"
        }
      },
      "source": [
        "int(X.loc[1,'height'].split('\\'')[0])*30.48"
      ],
      "execution_count": null,
      "outputs": [
        {
          "output_type": "execute_result",
          "data": {
            "text/plain": [
              "152.4"
            ]
          },
          "metadata": {
            "tags": []
          },
          "execution_count": 11
        }
      ]
    },
    {
      "cell_type": "code",
      "metadata": {
        "id": "C4zDA0rLAd_X",
        "outputId": "4b678a18-fbaf-417f-cb9e-1be2a91a9dd7",
        "colab": {
          "base_uri": "https://localhost:8080/"
        }
      },
      "source": [
        "int(X.loc[1,'height'].split('\\'')[1].replace('\"',''))*2.54"
      ],
      "execution_count": null,
      "outputs": [
        {
          "output_type": "execute_result",
          "data": {
            "text/plain": [
              "17.78"
            ]
          },
          "metadata": {
            "tags": []
          },
          "execution_count": 12
        }
      ]
    },
    {
      "cell_type": "code",
      "metadata": {
        "id": "6hIICs5pAd_b"
      },
      "source": [
        "def h_cms(h):\n",
        "    return int(h.split('\\'')[0])*30.48+\\\n",
        "    int(h.split('\\'')[1].replace('\"',''))*2.54"
      ],
      "execution_count": null,
      "outputs": []
    },
    {
      "cell_type": "code",
      "metadata": {
        "id": "2NQ4xIkJAd_g"
      },
      "source": [
        "X['height_cms'] = X.height.apply(h_cms)"
      ],
      "execution_count": null,
      "outputs": []
    },
    {
      "cell_type": "code",
      "metadata": {
        "id": "39yUOeWRAd_j",
        "outputId": "094016b8-f589-4b5f-ee08-eac72983b3f1",
        "colab": {
          "base_uri": "https://localhost:8080/",
          "height": 195
        }
      },
      "source": [
        "X.head()"
      ],
      "execution_count": null,
      "outputs": [
        {
          "output_type": "execute_result",
          "data": {
            "text/html": [
              "<div>\n",
              "<style scoped>\n",
              "    .dataframe tbody tr th:only-of-type {\n",
              "        vertical-align: middle;\n",
              "    }\n",
              "\n",
              "    .dataframe tbody tr th {\n",
              "        vertical-align: top;\n",
              "    }\n",
              "\n",
              "    .dataframe thead th {\n",
              "        text-align: right;\n",
              "    }\n",
              "</style>\n",
              "<table border=\"1\" class=\"dataframe\">\n",
              "  <thead>\n",
              "    <tr style=\"text-align: right;\">\n",
              "      <th></th>\n",
              "      <th>gender</th>\n",
              "      <th>height</th>\n",
              "      <th>religion</th>\n",
              "      <th>caste</th>\n",
              "      <th>mother_tongue</th>\n",
              "      <th>country</th>\n",
              "      <th>height_cms</th>\n",
              "    </tr>\n",
              "  </thead>\n",
              "  <tbody>\n",
              "    <tr>\n",
              "      <th>1</th>\n",
              "      <td>1</td>\n",
              "      <td>5'7\"</td>\n",
              "      <td>2</td>\n",
              "      <td>34</td>\n",
              "      <td>6</td>\n",
              "      <td>19</td>\n",
              "      <td>170.18</td>\n",
              "    </tr>\n",
              "    <tr>\n",
              "      <th>2</th>\n",
              "      <td>1</td>\n",
              "      <td>5'7\"</td>\n",
              "      <td>1</td>\n",
              "      <td>14</td>\n",
              "      <td>8</td>\n",
              "      <td>5</td>\n",
              "      <td>170.18</td>\n",
              "    </tr>\n",
              "    <tr>\n",
              "      <th>3</th>\n",
              "      <td>0</td>\n",
              "      <td>5'0\"</td>\n",
              "      <td>1</td>\n",
              "      <td>36</td>\n",
              "      <td>8</td>\n",
              "      <td>5</td>\n",
              "      <td>152.40</td>\n",
              "    </tr>\n",
              "    <tr>\n",
              "      <th>4</th>\n",
              "      <td>1</td>\n",
              "      <td>5'5\"</td>\n",
              "      <td>0</td>\n",
              "      <td>13</td>\n",
              "      <td>13</td>\n",
              "      <td>5</td>\n",
              "      <td>165.10</td>\n",
              "    </tr>\n",
              "    <tr>\n",
              "      <th>5</th>\n",
              "      <td>1</td>\n",
              "      <td>5'5\"</td>\n",
              "      <td>1</td>\n",
              "      <td>38</td>\n",
              "      <td>8</td>\n",
              "      <td>5</td>\n",
              "      <td>165.10</td>\n",
              "    </tr>\n",
              "  </tbody>\n",
              "</table>\n",
              "</div>"
            ],
            "text/plain": [
              "  gender height religion caste mother_tongue country  height_cms\n",
              "1      1   5'7\"        2    34             6      19      170.18\n",
              "2      1   5'7\"        1    14             8       5      170.18\n",
              "3      0   5'0\"        1    36             8       5      152.40\n",
              "4      1   5'5\"        0    13            13       5      165.10\n",
              "5      1   5'5\"        1    38             8       5      165.10"
            ]
          },
          "metadata": {
            "tags": []
          },
          "execution_count": 15
        }
      ]
    },
    {
      "cell_type": "code",
      "metadata": {
        "id": "9yQwxXm_Ad_n"
      },
      "source": [
        "X.drop('height',inplace=True,axis=1)"
      ],
      "execution_count": null,
      "outputs": []
    },
    {
      "cell_type": "code",
      "metadata": {
        "id": "mQ1yQk6YAd_r",
        "outputId": "ad026df9-c7e4-4bfa-e31a-5fd739cb1ca8",
        "colab": {
          "base_uri": "https://localhost:8080/",
          "height": 195
        }
      },
      "source": [
        "X.head()"
      ],
      "execution_count": null,
      "outputs": [
        {
          "output_type": "execute_result",
          "data": {
            "text/html": [
              "<div>\n",
              "<style scoped>\n",
              "    .dataframe tbody tr th:only-of-type {\n",
              "        vertical-align: middle;\n",
              "    }\n",
              "\n",
              "    .dataframe tbody tr th {\n",
              "        vertical-align: top;\n",
              "    }\n",
              "\n",
              "    .dataframe thead th {\n",
              "        text-align: right;\n",
              "    }\n",
              "</style>\n",
              "<table border=\"1\" class=\"dataframe\">\n",
              "  <thead>\n",
              "    <tr style=\"text-align: right;\">\n",
              "      <th></th>\n",
              "      <th>gender</th>\n",
              "      <th>religion</th>\n",
              "      <th>caste</th>\n",
              "      <th>mother_tongue</th>\n",
              "      <th>country</th>\n",
              "      <th>height_cms</th>\n",
              "    </tr>\n",
              "  </thead>\n",
              "  <tbody>\n",
              "    <tr>\n",
              "      <th>1</th>\n",
              "      <td>1</td>\n",
              "      <td>2</td>\n",
              "      <td>34</td>\n",
              "      <td>6</td>\n",
              "      <td>19</td>\n",
              "      <td>170.18</td>\n",
              "    </tr>\n",
              "    <tr>\n",
              "      <th>2</th>\n",
              "      <td>1</td>\n",
              "      <td>1</td>\n",
              "      <td>14</td>\n",
              "      <td>8</td>\n",
              "      <td>5</td>\n",
              "      <td>170.18</td>\n",
              "    </tr>\n",
              "    <tr>\n",
              "      <th>3</th>\n",
              "      <td>0</td>\n",
              "      <td>1</td>\n",
              "      <td>36</td>\n",
              "      <td>8</td>\n",
              "      <td>5</td>\n",
              "      <td>152.40</td>\n",
              "    </tr>\n",
              "    <tr>\n",
              "      <th>4</th>\n",
              "      <td>1</td>\n",
              "      <td>0</td>\n",
              "      <td>13</td>\n",
              "      <td>13</td>\n",
              "      <td>5</td>\n",
              "      <td>165.10</td>\n",
              "    </tr>\n",
              "    <tr>\n",
              "      <th>5</th>\n",
              "      <td>1</td>\n",
              "      <td>1</td>\n",
              "      <td>38</td>\n",
              "      <td>8</td>\n",
              "      <td>5</td>\n",
              "      <td>165.10</td>\n",
              "    </tr>\n",
              "  </tbody>\n",
              "</table>\n",
              "</div>"
            ],
            "text/plain": [
              "  gender religion caste mother_tongue country  height_cms\n",
              "1      1        2    34             6      19      170.18\n",
              "2      1        1    14             8       5      170.18\n",
              "3      0        1    36             8       5      152.40\n",
              "4      1        0    13            13       5      165.10\n",
              "5      1        1    38             8       5      165.10"
            ]
          },
          "metadata": {
            "tags": []
          },
          "execution_count": 17
        }
      ]
    },
    {
      "cell_type": "code",
      "metadata": {
        "id": "RiZBwjyPAd_w"
      },
      "source": [
        "from sklearn.model_selection import train_test_split\n",
        "X_train,X_test,y_train,y_test = train_test_split(X,y,test_size=0.2,random_state=0)"
      ],
      "execution_count": null,
      "outputs": []
    },
    {
      "cell_type": "code",
      "metadata": {
        "id": "jj29bP7wAd_2"
      },
      "source": [
        "from sklearn.ensemble import RandomForestRegressor\n",
        "model = RandomForestRegressor(n_estimators=80,max_depth=11)\n",
        "model.fit(X_train,y_train)\n",
        "y_predict = model.predict(X_test)"
      ],
      "execution_count": null,
      "outputs": []
    },
    {
      "cell_type": "markdown",
      "metadata": {
        "id": "TRmsCN9lAd_6"
      },
      "source": [
        "# Evaluation"
      ]
    },
    {
      "cell_type": "code",
      "metadata": {
        "id": "rIimGgg4Ad_8",
        "outputId": "1f3daacd-04b4-45ee-f0b2-d80fbdea2456",
        "colab": {
          "base_uri": "https://localhost:8080/"
        }
      },
      "source": [
        "from sklearn.metrics import mean_absolute_error, r2_score\n",
        "print(\"MAE : \", mean_absolute_error(y_test,y_predict))\n",
        "r2_score(y_test,y_predict)"
      ],
      "execution_count": null,
      "outputs": [
        {
          "output_type": "stream",
          "text": [
            "MAE :  1.031625706345066\n"
          ],
          "name": "stdout"
        },
        {
          "output_type": "execute_result",
          "data": {
            "text/plain": [
              "0.7002886041104888"
            ]
          },
          "metadata": {
            "tags": []
          },
          "execution_count": 20
        }
      ]
    },
    {
      "cell_type": "code",
      "metadata": {
        "id": "s5GqTwxKAeAA"
      },
      "source": [
        ""
      ],
      "execution_count": null,
      "outputs": []
    },
    {
      "cell_type": "markdown",
      "metadata": {
        "id": "pKNHreYCAeAD"
      },
      "source": [
        "# Export model"
      ]
    },
    {
      "cell_type": "code",
      "metadata": {
        "id": "dokfJ1sbAeAI"
      },
      "source": [
        "import pickle\n",
        "# Saving model\n",
        "pickle.dump(model, open('model.pkl','wb'))\n",
        "# model=pickle.load(open('model.pkl','rb'))\n",
        "# print(y_predict)"
      ],
      "execution_count": null,
      "outputs": []
    },
    {
      "cell_type": "code",
      "metadata": {
        "id": "Po5mb43oAeAT"
      },
      "source": [
        ""
      ],
      "execution_count": null,
      "outputs": []
    }
  ]
}